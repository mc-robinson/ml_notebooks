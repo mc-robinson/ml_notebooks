{
 "cells": [
  {
   "cell_type": "markdown",
   "metadata": {},
   "source": [
    "# K-means and Gaussian Mixture Models: Examples of the EM Algorithm #\n",
    "    - Matt Robinson"
   ]
  },
  {
   "cell_type": "markdown",
   "metadata": {},
   "source": [
    "# K-means Clustering\n",
    "\n",
    "I will implement the batch-version of the algorithm below.\n",
    "\n",
    "Most of the details are adapted from Bishop (2006).\n",
    "\n",
    "In k-means clustering, we are trying to minimize an obejective function, or *distortion measure*, $J$:\n",
    "\n",
    "$$\n",
    "J = \\sum _ { n = 1 } ^ { N } \\sum _ { k = 1 } ^ { K } r _ { n k } \\left\\| \\mathbf { x } _ { n } - \\boldsymbol { \\mu } _ { k } \\right\\| ^ { 2 }\n",
    "$$\n",
    "\n",
    "where $N$ is the number of data points and $K$ is the chosen number of clusters. $r _ { n k } \\in \\{ 0,1 \\}$ is a binary indicator variable that tells us which of the clusters $1,...,K$ the data point $\\mathbf{x}_n$ has been assigned to. Finally, $\\mathbf{\\mu}_k$ is the \"cluster center\" or prototype vector associated with cluster $k$.\n",
    "\n",
    "We wish to find the $r _ { n k }$ and $\\mathbf{\\mu}_k$ that minimize $J$. To accomplish this, we use a two step process.\n",
    "\n",
    "**Step 0.** Pick the number of clusters $K$ and choose initial values for the $\\mathbf{\\mu}_k$\n",
    "\n",
    "**Repeat Until Converged:** \n",
    "\n",
    "$\\quad$ **(Expectation)** Minimize $J$ with respect to the $r_{nk}$, while keeping the $\\mathbf{\\mu}_k$ fixed.\n",
    "\n",
    "$\\quad$ **(Maximization)** Minimize $J$ with respect to the $\\mathbf{\\mu}_k$, while keeping the $r_{nk}$ fixed.\n",
    "\n",
    "More formally, we can write the mathematical steps needed to perform each step:\n",
    "\n",
    "$$\n",
    "\\begin{align*}\n",
    "\\quad \\text{(Expectation)} \\quad r _ { n k } &= \\left\\{ \\begin{array} { l l } { 1 } & { \\text { if } k = \\arg \\min _ { j } \\left\\| \\mathbf { x } _ { n } - \\boldsymbol { \\mu } _ { j } \\right\\| ^ { 2 } } \\\\ { 0 } & { \\text { otherwise. } } \\end{array} \\right. \\\\\n",
    "\\quad \\text{(Maximization)} \\quad \\boldsymbol { \\mu } _ { k } &= \\frac { \\sum _ { n } r _ { n k } \\mathbf { x } _ { n } } { \\sum _ { n } r _ { n k } }\n",
    "\\end{align*}\n",
    "$$\n",
    "\n",
    "For the expectation step, $r_{nk}$ acts to assign each data point $\\mathbf{x}_n$ to the cluster center that is closest to $\\mathbf{x}_n$ in terms of Euclidean distance.\n",
    "\n",
    "For the maximization step, one can see that the denominator $ { \\sum _ { n } r _ { n k } }$ is just the number of points assigned to cluster $k$. Thus, $\\mathbf{\\mu}_k$ is just the mean of all of the data points assigned to cluster $k$. That's why it is called *k-means* clustering. \n",
    "\n",
    "Note that we are guarenteed convergence since each step necessarily decreases the distortion measure $J$. However, we are not guarenteed that the algoirthm convergest to a global minimum. Thus, it is often recommended that one runs the algorithm a couple of times to see if the results differ much between runs.\n",
    "\n",
    "Let's now try to implement the algorithm:"
   ]
  },
  {
   "cell_type": "code",
   "execution_count": 1,
   "metadata": {},
   "outputs": [],
   "source": [
    "# standard imports\n",
    "%matplotlib inline\n",
    "import matplotlib.pyplot as plt\n",
    "import seaborn as sns  # for plot styling\n",
    "import numpy as np\n",
    "import pandas as pd"
   ]
  },
  {
   "cell_type": "code",
   "execution_count": 2,
   "metadata": {},
   "outputs": [],
   "source": [
    "class KMeans(object):\n",
    "\n",
    "    def __init__(self, n_clusters=2, n_init=10, max_iter=300,\n",
    "                    tol=0.0001, random_state=1):\n",
    "        self.n_clusters = n_clusters\n",
    "        self.n_init = n_init\n",
    "        self.max_iter = max_iter\n",
    "        self.tol = tol\n",
    "        self.random_state = random_state\n",
    "        \n",
    "    def fit(self, X):\n",
    "        \n",
    "        n_samples, n_features = X.shape\n",
    "        self.cluster_centers_ = np.empty((self.n_clusters, n_features), dtype=X.dtype)\n",
    "        self.labels_ = np.empty((n_samples), dtype=X.dtype)\n",
    "        \n",
    "        self.inertia_ = 0\n",
    "        \n",
    "        # Randomly choose existing data points as clusters\n",
    "        rng = np.random.RandomState(self.random_state)\n",
    "        i = rng.permutation(X.shape[0])[:self.n_clusters]\n",
    "        \n",
    "        cluster_centers = X[i]\n",
    "        old_cluster_centers = cluster_centers\n",
    "        \n",
    "        labels = np.empty((n_samples), dtype=X.dtype)\n",
    "        \n",
    "        intertia = 0\n",
    "        \n",
    "        for _ in range(self.max_iter):\n",
    "            \n",
    "            # Assign label based on closest cluster center\n",
    "            for idx, sample in enumerate(X):\n",
    "                labels[idx] = np.argmin(\n",
    "                    [np.linalg.norm(sample - cluster_center) \n",
    "                     for cluster_center in cluster_centers]\n",
    "                )\n",
    "                \n",
    "            # Find new centers from mean of points assigned to cluster\n",
    "            cluster_centers = np.array([X[labels == i].mean(axis=0)\n",
    "                                        for i in range(self.n_clusters)]\n",
    "                                      )\n",
    "            \n",
    "            # Check if converged\n",
    "            if (np.linalg.norm(cluster_centers-old_cluster_centers))**2 < self.tol:\n",
    "                break\n",
    "            else:\n",
    "                old_cluster_centers = cluster_centers\n",
    "                \n",
    "                \n",
    "        # update class variables\n",
    "        self.cluster_centers_ = cluster_centers\n",
    "        self.labels_ = labels\n",
    "        \n",
    "        return self\n",
    "    \n",
    "    \n",
    " "
   ]
  },
  {
   "cell_type": "code",
   "execution_count": 3,
   "metadata": {},
   "outputs": [
    {
     "data": {
      "text/html": [
       "<div>\n",
       "<style scoped>\n",
       "    .dataframe tbody tr th:only-of-type {\n",
       "        vertical-align: middle;\n",
       "    }\n",
       "\n",
       "    .dataframe tbody tr th {\n",
       "        vertical-align: top;\n",
       "    }\n",
       "\n",
       "    .dataframe thead th {\n",
       "        text-align: right;\n",
       "    }\n",
       "</style>\n",
       "<table border=\"1\" class=\"dataframe\">\n",
       "  <thead>\n",
       "    <tr style=\"text-align: right;\">\n",
       "      <th></th>\n",
       "      <th>sepal_length</th>\n",
       "      <th>sepal_width</th>\n",
       "      <th>petal_length</th>\n",
       "      <th>petal_width</th>\n",
       "      <th>species</th>\n",
       "    </tr>\n",
       "  </thead>\n",
       "  <tbody>\n",
       "    <tr>\n",
       "      <th>0</th>\n",
       "      <td>5.1</td>\n",
       "      <td>3.5</td>\n",
       "      <td>1.4</td>\n",
       "      <td>0.2</td>\n",
       "      <td>setosa</td>\n",
       "    </tr>\n",
       "    <tr>\n",
       "      <th>1</th>\n",
       "      <td>4.9</td>\n",
       "      <td>3.0</td>\n",
       "      <td>1.4</td>\n",
       "      <td>0.2</td>\n",
       "      <td>setosa</td>\n",
       "    </tr>\n",
       "    <tr>\n",
       "      <th>2</th>\n",
       "      <td>4.7</td>\n",
       "      <td>3.2</td>\n",
       "      <td>1.3</td>\n",
       "      <td>0.2</td>\n",
       "      <td>setosa</td>\n",
       "    </tr>\n",
       "    <tr>\n",
       "      <th>3</th>\n",
       "      <td>4.6</td>\n",
       "      <td>3.1</td>\n",
       "      <td>1.5</td>\n",
       "      <td>0.2</td>\n",
       "      <td>setosa</td>\n",
       "    </tr>\n",
       "    <tr>\n",
       "      <th>4</th>\n",
       "      <td>5.0</td>\n",
       "      <td>3.6</td>\n",
       "      <td>1.4</td>\n",
       "      <td>0.2</td>\n",
       "      <td>setosa</td>\n",
       "    </tr>\n",
       "  </tbody>\n",
       "</table>\n",
       "</div>"
      ],
      "text/plain": [
       "   sepal_length  sepal_width  petal_length  petal_width species\n",
       "0           5.1          3.5           1.4          0.2  setosa\n",
       "1           4.9          3.0           1.4          0.2  setosa\n",
       "2           4.7          3.2           1.3          0.2  setosa\n",
       "3           4.6          3.1           1.5          0.2  setosa\n",
       "4           5.0          3.6           1.4          0.2  setosa"
      ]
     },
     "execution_count": 3,
     "metadata": {},
     "output_type": "execute_result"
    }
   ],
   "source": [
    "# get the Iris dataset from seaborn\n",
    "df = sns.load_dataset(\"iris\")\n",
    "df.head()"
   ]
  },
  {
   "cell_type": "code",
   "execution_count": 4,
   "metadata": {},
   "outputs": [],
   "source": [
    "from sklearn.model_selection import train_test_split\n",
    "\n",
    "X, y = df.iloc[:, 0:4].values, df.iloc[:, 4].values\n",
    "\n",
    "X_train, X_test, y_train, y_test = \\\n",
    "    train_test_split(X, y, test_size=0.3, \n",
    "                     stratify=y,\n",
    "                     random_state=0)"
   ]
  },
  {
   "cell_type": "code",
   "execution_count": 5,
   "metadata": {},
   "outputs": [],
   "source": [
    "from sklearn.preprocessing import StandardScaler\n",
    "\n",
    "sc = StandardScaler()\n",
    "X_train_std = sc.fit_transform(X_train)\n",
    "X_test_std = sc.transform(X_test)"
   ]
  },
  {
   "cell_type": "code",
   "execution_count": 11,
   "metadata": {},
   "outputs": [],
   "source": [
    "# train on only two features\n",
    "kmeans = KMeans(n_clusters=3)\n",
    "kmeans.fit(X_train_std[:,0:2])\n",
    "y_kmeans = kmeans.labels_"
   ]
  },
  {
   "cell_type": "code",
   "execution_count": 12,
   "metadata": {},
   "outputs": [
    {
     "data": {
      "text/plain": [
       "Text(0,0.5,'Sepal Width')"
      ]
     },
     "execution_count": 12,
     "metadata": {},
     "output_type": "execute_result"
    },
    {
     "data": {
      "image/png": "[encoded data removed]",
      "text/plain": [
       "<Figure size 576x432 with 1 Axes>"
      ]
     },
     "metadata": {},
     "output_type": "display_data"
    }
   ],
   "source": [
    "plt.figure(figsize=(8,6))\n",
    "\n",
    "plt.scatter(X_train_std[:, 0], X_train_std[:, 1], c=y_kmeans, s=50, cmap='viridis')\n",
    "\n",
    "centers = kmeans.cluster_centers_\n",
    "plt.scatter(centers[:, 0], centers[:, 1], c='black', s=200, alpha=0.5);\n",
    "\n",
    "plt.xlabel(\"Sepal Length\")\n",
    "plt.ylabel(\"Sepal Width\")"
   ]
  },
  {
   "cell_type": "code",
   "execution_count": null,
   "metadata": {},
   "outputs": [],
   "source": []
  }
 ],
 "metadata": {
  "kernelspec": {
   "display_name": "Python 3",
   "language": "python",
   "name": "python3"
  },
  "language_info": {
   "codemirror_mode": {
    "name": "ipython",
    "version": 3
   },
   "file_extension": ".py",
   "mimetype": "text/x-python",
   "name": "python",
   "nbconvert_exporter": "python",
   "pygments_lexer": "ipython3",
   "version": "3.6.6"
  }
 },
 "nbformat": 4,
 "nbformat_minor": 2
}
