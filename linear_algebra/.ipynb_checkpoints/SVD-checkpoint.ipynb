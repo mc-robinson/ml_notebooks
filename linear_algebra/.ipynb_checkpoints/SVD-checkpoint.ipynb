{
 "cells": [
  {
   "cell_type": "markdown",
   "metadata": {},
   "source": [
    "# Notes on the SVD (Singular Value Decomposition) #\n",
    "\n",
    "- Much of this comes from Trefethen's excellent book."
   ]
  },
  {
   "cell_type": "markdown",
   "metadata": {},
   "source": [
    "## A geometric interpretation ## \n",
    "\n",
    "We start by noting this important fact from Trefethen:\n",
    "\n",
    "\"The image of the unit sphere under any $m \\times n$ matrix is a hyperellipse.\n",
    "\n",
    "Let's unpack that statement:\n",
    "\n",
    "First, the *unit sphere* is the sphere in $\\mathbb { R } ^ { n}$, such that the Euclidian norm or $2$-norm is always $1$. \n",
    "\n",
    "A hyperellipse in $\\mathbb { R } ^ { m }$ is the $m$-dimensional generalization of an ellipse. We can obtain a hyperellipse by stretching the unit sphere in $\\mathbb { R } ^ { m}$ by factors $\\sigma_1,\\ldots,\\sigma_m$ in the orthogonal directions $\\mathbf{u}_1,\\ldots,\\mathbf{u}_m$."
   ]
  },
  {
   "cell_type": "code",
   "execution_count": null,
   "metadata": {},
   "outputs": [],
   "source": []
  }
 ],
 "metadata": {
  "kernelspec": {
   "display_name": "Python 3",
   "language": "python",
   "name": "python3"
  },
  "language_info": {
   "codemirror_mode": {
    "name": "ipython",
    "version": 3
   },
   "file_extension": ".py",
   "mimetype": "text/x-python",
   "name": "python",
   "nbconvert_exporter": "python",
   "pygments_lexer": "ipython3",
   "version": "3.6.6"
  }
 },
 "nbformat": 4,
 "nbformat_minor": 2
}
