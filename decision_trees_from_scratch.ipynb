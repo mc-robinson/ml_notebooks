{
 "cells": [
  {
   "cell_type": "markdown",
   "metadata": {},
   "source": [
    "# Implementing Decision Trees from Scratch #\n",
    "    - Matt Robinson\n",
    "    \n",
    "The code here is loosely based on the code found in Jason Brownlee's [nice tutorial](https://machinelearningmastery.com/implement-decision-tree-algorithm-scratch-python/)."
   ]
  },
  {
   "cell_type": "code",
   "execution_count": 2,
   "metadata": {},
   "outputs": [],
   "source": [
    "# Common imports\n",
    "import numpy as np\n",
    "import pandas as pd\n",
    "\n",
    "# to make this notebook's output stable across runs\n",
    "np.random.seed(42)\n",
    "\n",
    "# To plot pretty figures\n",
    "%matplotlib inline\n",
    "import matplotlib\n",
    "import matplotlib.pyplot as plt\n",
    "import seaborn as sns"
   ]
  },
  {
   "cell_type": "code",
   "execution_count": 3,
   "metadata": {},
   "outputs": [
    {
     "data": {
      "text/html": [
       "<div>\n",
       "<style scoped>\n",
       "    .dataframe tbody tr th:only-of-type {\n",
       "        vertical-align: middle;\n",
       "    }\n",
       "\n",
       "    .dataframe tbody tr th {\n",
       "        vertical-align: top;\n",
       "    }\n",
       "\n",
       "    .dataframe thead th {\n",
       "        text-align: right;\n",
       "    }\n",
       "</style>\n",
       "<table border=\"1\" class=\"dataframe\">\n",
       "  <thead>\n",
       "    <tr style=\"text-align: right;\">\n",
       "      <th></th>\n",
       "      <th>sepal_length</th>\n",
       "      <th>sepal_width</th>\n",
       "      <th>petal_length</th>\n",
       "      <th>petal_width</th>\n",
       "      <th>species</th>\n",
       "    </tr>\n",
       "  </thead>\n",
       "  <tbody>\n",
       "    <tr>\n",
       "      <th>0</th>\n",
       "      <td>5.1</td>\n",
       "      <td>3.5</td>\n",
       "      <td>1.4</td>\n",
       "      <td>0.2</td>\n",
       "      <td>setosa</td>\n",
       "    </tr>\n",
       "    <tr>\n",
       "      <th>1</th>\n",
       "      <td>4.9</td>\n",
       "      <td>3.0</td>\n",
       "      <td>1.4</td>\n",
       "      <td>0.2</td>\n",
       "      <td>setosa</td>\n",
       "    </tr>\n",
       "    <tr>\n",
       "      <th>2</th>\n",
       "      <td>4.7</td>\n",
       "      <td>3.2</td>\n",
       "      <td>1.3</td>\n",
       "      <td>0.2</td>\n",
       "      <td>setosa</td>\n",
       "    </tr>\n",
       "    <tr>\n",
       "      <th>3</th>\n",
       "      <td>4.6</td>\n",
       "      <td>3.1</td>\n",
       "      <td>1.5</td>\n",
       "      <td>0.2</td>\n",
       "      <td>setosa</td>\n",
       "    </tr>\n",
       "    <tr>\n",
       "      <th>4</th>\n",
       "      <td>5.0</td>\n",
       "      <td>3.6</td>\n",
       "      <td>1.4</td>\n",
       "      <td>0.2</td>\n",
       "      <td>setosa</td>\n",
       "    </tr>\n",
       "  </tbody>\n",
       "</table>\n",
       "</div>"
      ],
      "text/plain": [
       "   sepal_length  sepal_width  petal_length  petal_width species\n",
       "0           5.1          3.5           1.4          0.2  setosa\n",
       "1           4.9          3.0           1.4          0.2  setosa\n",
       "2           4.7          3.2           1.3          0.2  setosa\n",
       "3           4.6          3.1           1.5          0.2  setosa\n",
       "4           5.0          3.6           1.4          0.2  setosa"
      ]
     },
     "execution_count": 3,
     "metadata": {},
     "output_type": "execute_result"
    }
   ],
   "source": [
    "# get the Iris dataset from seaborn\n",
    "df = sns.load_dataset(\"iris\")\n",
    "df.head()"
   ]
  },
  {
   "cell_type": "code",
   "execution_count": 4,
   "metadata": {},
   "outputs": [],
   "source": [
    "from sklearn.model_selection import train_test_split\n",
    "\n",
    "X, y = df.iloc[:, 0:4].values, df.iloc[:, 4].values\n",
    "\n",
    "X_train, X_test, y_train, y_test = \\\n",
    "    train_test_split(X, y, test_size=0.3, \n",
    "                     stratify=y,\n",
    "                     random_state=0)"
   ]
  },
  {
   "cell_type": "code",
   "execution_count": 17,
   "metadata": {},
   "outputs": [],
   "source": [
    "def gini(X,y):\n",
    "    N = X.shape[0]\n",
    "    \n",
    "    gini_score = 1\n",
    "    for class_i in np.unique(y):\n",
    "        Ni = X[y==class_i].shape[0]\n",
    "        gini_score -= (Ni/N)**2\n",
    "        \n",
    "    return gini_score   \n",
    "    "
   ]
  },
  {
   "cell_type": "code",
   "execution_count": 16,
   "metadata": {},
   "outputs": [
    {
     "data": {
      "text/plain": [
       "0.5"
      ]
     },
     "execution_count": 16,
     "metadata": {},
     "output_type": "execute_result"
    }
   ],
   "source": [
    "gini(X[0:100],y[0:100])"
   ]
  },
  {
   "cell_type": "code",
   "execution_count": 55,
   "metadata": {},
   "outputs": [],
   "source": [
    "def test_split(X,y,sample_idx=0,feature_idx=0):\n",
    "    value_to_split_on = X[sample_idx,feature_idx]\n",
    "    \n",
    "    left_idx = X[:,0] <= value_to_split_on\n",
    "    left_X = X[left_idx]\n",
    "    left_y = y[left_idx]\n",
    "    \n",
    "    right_idx = X[:,0] > value_to_split_on\n",
    "    right_X = X[right_idx]\n",
    "    right_y = y[right_idx]\n",
    "    \n",
    "    return left_X, left_y, right_X, right_y\n",
    "    "
   ]
  },
  {
   "cell_type": "code",
   "execution_count": 92,
   "metadata": {},
   "outputs": [],
   "source": [
    "# Select the best split point for a dataset\n",
    "def get_split(X, y, min_samples_leaf=0):\n",
    "    \n",
    "    N = X.shape[0]\n",
    "    num_features = X.shape[1]\n",
    "    \n",
    "    best_gini_cost = gini(X,y)\n",
    "    found_split = False\n",
    "    \n",
    "    for j in range(num_features):\n",
    "        for i in range(N):\n",
    "            # this is really simplistic\n",
    "            # just iterate over every feature value\n",
    "            # for every sample, and see what produces\n",
    "            # the best split of left and right\n",
    "            # in terms of Gini impurity\n",
    "            lX,ly,rX,ry = test_split(X, y, sample_idx=i, feature_idx=j)\n",
    "            left_gini = gini(lX,ly)\n",
    "            right_gini = gini(rX,ry)\n",
    "            \n",
    "            gini_cost = (len(lX)/N)*left_gini + (len(rX)/N)*right_gini\n",
    "            if (gini_cost < best_gini_cost) and \\\n",
    "                (len(lX) >= min_samples_leaf) and \\\n",
    "                (len(rX) >= min_samples_leaf):\n",
    "                    \n",
    "                found_split = True\n",
    "                best_gini_cost = gini_cost\n",
    "                best_gini_feature_idx = j\n",
    "                best_gini_feature_value = X[i,j]\n",
    "                best_lX, best_ly = lX,ly\n",
    "                best_rX, best_ry = rX,ry\n",
    "    \n",
    "    if found_split:\n",
    "        return {\"feature_idx\": best_gini_feature_idx, \n",
    "                \"feature_value\": best_gini_feature_value, \n",
    "                \"left\": [best_lX, best_ly],\n",
    "                \"right\": [best_rX, best_ry]}\n",
    "    else:\n",
    "        return {\"leaf\": [X,y]}\n",
    "            \n"
   ]
  },
  {
   "cell_type": "code",
   "execution_count": 97,
   "metadata": {},
   "outputs": [],
   "source": [
    "# Create child splits for a node or make leaf\n",
    "def split(node, depth, max_depth=2, min_samples_split=0, min_samples_leaf=0):\n",
    "    \n",
    "    if \"leaf\" in node:\n",
    "        return\n",
    "    \n",
    "    lX,ly = node['left'][:]\n",
    "    rX,ry = node['right'][:]\n",
    "    \n",
    "    # get rid of old info\n",
    "    del(node['left'])\n",
    "    del(node['right'])\n",
    "    \n",
    "    if depth >= max_depth-1:\n",
    "        node[\"left\"] = {\"leaf\": [lX,ly]}\n",
    "        node[\"right\"] = {\"leaf\": [rX,ry]}\n",
    "        return\n",
    "    \n",
    "    if (len(lX) < min_samples_split) and (len(rX) < min_samples_split):\n",
    "        node[\"left\"] = {\"leaf\": [lX,ly]}\n",
    "        node[\"right\"] = {\"leaf\": [rX,ry]}\n",
    "        return\n",
    "    \n",
    "    elif (len(lX) < min_samples_split) and (len(rX) >= min_samples_split):\n",
    "        node[\"left\"] = {\"leaf\": [lX,ly]}\n",
    "        node[\"right\"] = get_split(rX,rY,min_samples_leaf)\n",
    "        split(node[\"right\"], depth+1, max_depth, min_samples_split, min_samples_leaf)\n",
    "    \n",
    "    elif (len(lX) >= min_samples_split) and (len(rX) < min_samples_split):\n",
    "        node[\"right\"] = {\"leaf\": [rX,ry]}\n",
    "        node[\"left\"] = get_split(lX,lY,min_samples_leaf)\n",
    "        split(node[\"left\"], depth+1, max_depth, min_samples_split, min_samples_leaf)\n",
    "    \n",
    "    else:\n",
    "        node[\"left\"] = get_split(lX,ly,min_samples_leaf)\n",
    "        split(node[\"left\"], depth+1, max_depth, min_samples_split, min_samples_leaf)\n",
    "        \n",
    "        node[\"right\"] = get_split(rX,ry,min_samples_leaf)\n",
    "        split(node[\"right\"], depth+1, max_depth, min_samples_split, min_samples_leaf)\n"
   ]
  },
  {
   "cell_type": "code",
   "execution_count": 101,
   "metadata": {},
   "outputs": [],
   "source": [
    "def make_tree():\n",
    "    root = get_split(X,y)\n",
    "    split(root, 0, max_depth=2)\n",
    "    return root"
   ]
  },
  {
   "cell_type": "code",
   "execution_count": 103,
   "metadata": {},
   "outputs": [
    {
     "data": {
      "text/plain": [
       "{'feature_idx': 0,\n",
       " 'feature_value': 5.4,\n",
       " 'left': {'feature_idx': 0,\n",
       "  'feature_value': 4.8,\n",
       "  'left': {'leaf': [array([[4.7, 3.2, 1.3, 0.2],\n",
       "           [4.6, 3.1, 1.5, 0.2],\n",
       "           [4.6, 3.4, 1.4, 0.3],\n",
       "           [4.4, 2.9, 1.4, 0.2],\n",
       "           [4.8, 3.4, 1.6, 0.2],\n",
       "           [4.8, 3. , 1.4, 0.1],\n",
       "           [4.3, 3. , 1.1, 0.1],\n",
       "           [4.6, 3.6, 1. , 0.2],\n",
       "           [4.8, 3.4, 1.9, 0.2],\n",
       "           [4.7, 3.2, 1.6, 0.2],\n",
       "           [4.8, 3.1, 1.6, 0.2],\n",
       "           [4.4, 3. , 1.3, 0.2],\n",
       "           [4.5, 2.3, 1.3, 0.3],\n",
       "           [4.4, 3.2, 1.3, 0.2],\n",
       "           [4.8, 3. , 1.4, 0.3],\n",
       "           [4.6, 3.2, 1.4, 0.2]]),\n",
       "    array(['setosa', 'setosa', 'setosa', 'setosa', 'setosa', 'setosa',\n",
       "           'setosa', 'setosa', 'setosa', 'setosa', 'setosa', 'setosa',\n",
       "           'setosa', 'setosa', 'setosa', 'setosa'], dtype=object)]},\n",
       "  'right': {'leaf': [array([[5.1, 3.5, 1.4, 0.2],\n",
       "           [4.9, 3. , 1.4, 0.2],\n",
       "           [5. , 3.6, 1.4, 0.2],\n",
       "           [5.4, 3.9, 1.7, 0.4],\n",
       "           [5. , 3.4, 1.5, 0.2],\n",
       "           [4.9, 3.1, 1.5, 0.1],\n",
       "           [5.4, 3.7, 1.5, 0.2],\n",
       "           [5.4, 3.9, 1.3, 0.4],\n",
       "           [5.1, 3.5, 1.4, 0.3],\n",
       "           [5.1, 3.8, 1.5, 0.3],\n",
       "           [5.4, 3.4, 1.7, 0.2],\n",
       "           [5.1, 3.7, 1.5, 0.4],\n",
       "           [5.1, 3.3, 1.7, 0.5],\n",
       "           [5. , 3. , 1.6, 0.2],\n",
       "           [5. , 3.4, 1.6, 0.4],\n",
       "           [5.2, 3.5, 1.5, 0.2],\n",
       "           [5.2, 3.4, 1.4, 0.2],\n",
       "           [5.4, 3.4, 1.5, 0.4],\n",
       "           [5.2, 4.1, 1.5, 0.1],\n",
       "           [4.9, 3.1, 1.5, 0.2],\n",
       "           [5. , 3.2, 1.2, 0.2],\n",
       "           [4.9, 3.6, 1.4, 0.1],\n",
       "           [5.1, 3.4, 1.5, 0.2],\n",
       "           [5. , 3.5, 1.3, 0.3],\n",
       "           [5. , 3.5, 1.6, 0.6],\n",
       "           [5.1, 3.8, 1.9, 0.4],\n",
       "           [5.1, 3.8, 1.6, 0.2],\n",
       "           [5.3, 3.7, 1.5, 0.2],\n",
       "           [5. , 3.3, 1.4, 0.2],\n",
       "           [4.9, 2.4, 3.3, 1. ],\n",
       "           [5.2, 2.7, 3.9, 1.4],\n",
       "           [5. , 2. , 3.5, 1. ],\n",
       "           [5.4, 3. , 4.5, 1.5],\n",
       "           [5. , 2.3, 3.3, 1. ],\n",
       "           [5.1, 2.5, 3. , 1.1],\n",
       "           [4.9, 2.5, 4.5, 1.7]]),\n",
       "    array(['setosa', 'setosa', 'setosa', 'setosa', 'setosa', 'setosa',\n",
       "           'setosa', 'setosa', 'setosa', 'setosa', 'setosa', 'setosa',\n",
       "           'setosa', 'setosa', 'setosa', 'setosa', 'setosa', 'setosa',\n",
       "           'setosa', 'setosa', 'setosa', 'setosa', 'setosa', 'setosa',\n",
       "           'setosa', 'setosa', 'setosa', 'setosa', 'setosa', 'versicolor',\n",
       "           'versicolor', 'versicolor', 'versicolor', 'versicolor',\n",
       "           'versicolor', 'virginica'], dtype=object)]}},\n",
       " 'right': {'feature_idx': 0,\n",
       "  'feature_value': 6.1,\n",
       "  'left': {'leaf': [array([[5.8, 4. , 1.2, 0.2],\n",
       "           [5.7, 4.4, 1.5, 0.4],\n",
       "           [5.7, 3.8, 1.7, 0.3],\n",
       "           [5.5, 4.2, 1.4, 0.2],\n",
       "           [5.5, 3.5, 1.3, 0.2],\n",
       "           [5.5, 2.3, 4. , 1.3],\n",
       "           [5.7, 2.8, 4.5, 1.3],\n",
       "           [5.9, 3. , 4.2, 1.5],\n",
       "           [6. , 2.2, 4. , 1. ],\n",
       "           [6.1, 2.9, 4.7, 1.4],\n",
       "           [5.6, 2.9, 3.6, 1.3],\n",
       "           [5.6, 3. , 4.5, 1.5],\n",
       "           [5.8, 2.7, 4.1, 1. ],\n",
       "           [5.6, 2.5, 3.9, 1.1],\n",
       "           [5.9, 3.2, 4.8, 1.8],\n",
       "           [6.1, 2.8, 4. , 1.3],\n",
       "           [6.1, 2.8, 4.7, 1.2],\n",
       "           [6. , 2.9, 4.5, 1.5],\n",
       "           [5.7, 2.6, 3.5, 1. ],\n",
       "           [5.5, 2.4, 3.8, 1.1],\n",
       "           [5.5, 2.4, 3.7, 1. ],\n",
       "           [5.8, 2.7, 3.9, 1.2],\n",
       "           [6. , 2.7, 5.1, 1.6],\n",
       "           [6. , 3.4, 4.5, 1.6],\n",
       "           [5.6, 3. , 4.1, 1.3],\n",
       "           [5.5, 2.5, 4. , 1.3],\n",
       "           [5.5, 2.6, 4.4, 1.2],\n",
       "           [6.1, 3. , 4.6, 1.4],\n",
       "           [5.8, 2.6, 4. , 1.2],\n",
       "           [5.6, 2.7, 4.2, 1.3],\n",
       "           [5.7, 3. , 4.2, 1.2],\n",
       "           [5.7, 2.9, 4.2, 1.3],\n",
       "           [5.7, 2.8, 4.1, 1.3],\n",
       "           [5.8, 2.7, 5.1, 1.9],\n",
       "           [5.7, 2.5, 5. , 2. ],\n",
       "           [5.8, 2.8, 5.1, 2.4],\n",
       "           [6. , 2.2, 5. , 1.5],\n",
       "           [5.6, 2.8, 4.9, 2. ],\n",
       "           [6.1, 3. , 4.9, 1.8],\n",
       "           [6.1, 2.6, 5.6, 1.4],\n",
       "           [6. , 3. , 4.8, 1.8],\n",
       "           [5.8, 2.7, 5.1, 1.9],\n",
       "           [5.9, 3. , 5.1, 1.8]]),\n",
       "    array(['setosa', 'setosa', 'setosa', 'setosa', 'setosa', 'versicolor',\n",
       "           'versicolor', 'versicolor', 'versicolor', 'versicolor',\n",
       "           'versicolor', 'versicolor', 'versicolor', 'versicolor',\n",
       "           'versicolor', 'versicolor', 'versicolor', 'versicolor',\n",
       "           'versicolor', 'versicolor', 'versicolor', 'versicolor',\n",
       "           'versicolor', 'versicolor', 'versicolor', 'versicolor',\n",
       "           'versicolor', 'versicolor', 'versicolor', 'versicolor',\n",
       "           'versicolor', 'versicolor', 'versicolor', 'virginica', 'virginica',\n",
       "           'virginica', 'virginica', 'virginica', 'virginica', 'virginica',\n",
       "           'virginica', 'virginica', 'virginica'], dtype=object)]},\n",
       "  'right': {'leaf': [array([[7. , 3.2, 4.7, 1.4],\n",
       "           [6.4, 3.2, 4.5, 1.5],\n",
       "           [6.9, 3.1, 4.9, 1.5],\n",
       "           [6.5, 2.8, 4.6, 1.5],\n",
       "           [6.3, 3.3, 4.7, 1.6],\n",
       "           [6.6, 2.9, 4.6, 1.3],\n",
       "           [6.7, 3.1, 4.4, 1.4],\n",
       "           [6.2, 2.2, 4.5, 1.5],\n",
       "           [6.3, 2.5, 4.9, 1.5],\n",
       "           [6.4, 2.9, 4.3, 1.3],\n",
       "           [6.6, 3. , 4.4, 1.4],\n",
       "           [6.8, 2.8, 4.8, 1.4],\n",
       "           [6.7, 3. , 5. , 1.7],\n",
       "           [6.7, 3.1, 4.7, 1.5],\n",
       "           [6.3, 2.3, 4.4, 1.3],\n",
       "           [6.2, 2.9, 4.3, 1.3],\n",
       "           [6.3, 3.3, 6. , 2.5],\n",
       "           [7.1, 3. , 5.9, 2.1],\n",
       "           [6.3, 2.9, 5.6, 1.8],\n",
       "           [6.5, 3. , 5.8, 2.2],\n",
       "           [7.6, 3. , 6.6, 2.1],\n",
       "           [7.3, 2.9, 6.3, 1.8],\n",
       "           [6.7, 2.5, 5.8, 1.8],\n",
       "           [7.2, 3.6, 6.1, 2.5],\n",
       "           [6.5, 3.2, 5.1, 2. ],\n",
       "           [6.4, 2.7, 5.3, 1.9],\n",
       "           [6.8, 3. , 5.5, 2.1],\n",
       "           [6.4, 3.2, 5.3, 2.3],\n",
       "           [6.5, 3. , 5.5, 1.8],\n",
       "           [7.7, 3.8, 6.7, 2.2],\n",
       "           [7.7, 2.6, 6.9, 2.3],\n",
       "           [6.9, 3.2, 5.7, 2.3],\n",
       "           [7.7, 2.8, 6.7, 2. ],\n",
       "           [6.3, 2.7, 4.9, 1.8],\n",
       "           [6.7, 3.3, 5.7, 2.1],\n",
       "           [7.2, 3.2, 6. , 1.8],\n",
       "           [6.2, 2.8, 4.8, 1.8],\n",
       "           [6.4, 2.8, 5.6, 2.1],\n",
       "           [7.2, 3. , 5.8, 1.6],\n",
       "           [7.4, 2.8, 6.1, 1.9],\n",
       "           [7.9, 3.8, 6.4, 2. ],\n",
       "           [6.4, 2.8, 5.6, 2.2],\n",
       "           [6.3, 2.8, 5.1, 1.5],\n",
       "           [7.7, 3. , 6.1, 2.3],\n",
       "           [6.3, 3.4, 5.6, 2.4],\n",
       "           [6.4, 3.1, 5.5, 1.8],\n",
       "           [6.9, 3.1, 5.4, 2.1],\n",
       "           [6.7, 3.1, 5.6, 2.4],\n",
       "           [6.9, 3.1, 5.1, 2.3],\n",
       "           [6.8, 3.2, 5.9, 2.3],\n",
       "           [6.7, 3.3, 5.7, 2.5],\n",
       "           [6.7, 3. , 5.2, 2.3],\n",
       "           [6.3, 2.5, 5. , 1.9],\n",
       "           [6.5, 3. , 5.2, 2. ],\n",
       "           [6.2, 3.4, 5.4, 2.3]]),\n",
       "    array(['versicolor', 'versicolor', 'versicolor', 'versicolor',\n",
       "           'versicolor', 'versicolor', 'versicolor', 'versicolor',\n",
       "           'versicolor', 'versicolor', 'versicolor', 'versicolor',\n",
       "           'versicolor', 'versicolor', 'versicolor', 'versicolor',\n",
       "           'virginica', 'virginica', 'virginica', 'virginica', 'virginica',\n",
       "           'virginica', 'virginica', 'virginica', 'virginica', 'virginica',\n",
       "           'virginica', 'virginica', 'virginica', 'virginica', 'virginica',\n",
       "           'virginica', 'virginica', 'virginica', 'virginica', 'virginica',\n",
       "           'virginica', 'virginica', 'virginica', 'virginica', 'virginica',\n",
       "           'virginica', 'virginica', 'virginica', 'virginica', 'virginica',\n",
       "           'virginica', 'virginica', 'virginica', 'virginica', 'virginica',\n",
       "           'virginica', 'virginica', 'virginica', 'virginica'], dtype=object)]}}}"
      ]
     },
     "execution_count": 103,
     "metadata": {},
     "output_type": "execute_result"
    }
   ],
   "source": [
    "make_tree()"
   ]
  },
  {
   "cell_type": "code",
   "execution_count": null,
   "metadata": {},
   "outputs": [],
   "source": [
    "# Make a prediction with a decision tree\n",
    "def predict(node, X):\n",
    "    \n",
    "    # if leaf, then predict\n",
    "    # based on most popular class in leaf\n",
    "    if \"leaf\" in node:\n",
    "        leaf_X, leaf_y = node[\"leaf\"][:]\n",
    "        \n",
    "        \n",
    "    if row[node['feature_idx']] < node['value']:\n",
    "\t\tif isinstance(node['left'], dict):\n",
    "\t\t\treturn predict(node['left'], row)\n",
    "\t\telse:\n",
    "\t\t\treturn node['left']\n",
    "\telse:\n",
    "\t\tif isinstance(node['right'], dict):\n",
    "\t\t\treturn predict(node['right'], row)\n",
    "\t\telse:\n",
    "\t\t\treturn node['right']"
   ]
  },
  {
   "cell_type": "code",
   "execution_count": 75,
   "metadata": {},
   "outputs": [
    {
     "data": {
      "text/plain": [
       "(array([ 1.,  0.,  5.,  5.,  8.,  9., 10.,  5.,  1.,  6.]),\n",
       " array([4.9, 5.2, 5.5, 5.8, 6.1, 6.4, 6.7, 7. , 7.3, 7.6, 7.9]),\n",
       " <a list of 10 Patch objects>)"
      ]
     },
     "execution_count": 75,
     "metadata": {},
     "output_type": "execute_result"
    },
    {
     "data": {
      "image/png": "[encoded data removed]",
      "text/plain": [
       "<Figure size 432x288 with 1 Axes>"
      ]
     },
     "metadata": {},
     "output_type": "display_data"
    }
   ],
   "source": [
    "plt.hist(X[:,0][y=='setosa'])\n",
    "plt.hist(X[:,0][y=='versicolor'])\n",
    "plt.hist(X[:,0][y=='virginica'])"
   ]
  },
  {
   "cell_type": "code",
   "execution_count": 107,
   "metadata": {},
   "outputs": [],
   "source": [
    "unique, counts = np.unique(y, return_counts=True)"
   ]
  },
  {
   "cell_type": "code",
   "execution_count": 108,
   "metadata": {},
   "outputs": [
    {
     "data": {
      "text/plain": [
       "array(['setosa', 'versicolor', 'virginica'], dtype=object)"
      ]
     },
     "execution_count": 108,
     "metadata": {},
     "output_type": "execute_result"
    }
   ],
   "source": [
    "unique"
   ]
  },
  {
   "cell_type": "code",
   "execution_count": 109,
   "metadata": {},
   "outputs": [
    {
     "data": {
      "text/plain": [
       "array([50, 50, 50])"
      ]
     },
     "execution_count": 109,
     "metadata": {},
     "output_type": "execute_result"
    }
   ],
   "source": [
    "counts"
   ]
  },
  {
   "cell_type": "code",
   "execution_count": null,
   "metadata": {},
   "outputs": [],
   "source": [
    "# then sort them"
   ]
  }
 ],
 "metadata": {
  "kernelspec": {
   "display_name": "Python 3",
   "language": "python",
   "name": "python3"
  },
  "language_info": {
   "codemirror_mode": {
    "name": "ipython",
    "version": 3
   },
   "file_extension": ".py",
   "mimetype": "text/x-python",
   "name": "python",
   "nbconvert_exporter": "python",
   "pygments_lexer": "ipython3",
   "version": "3.6.6"
  }
 },
 "nbformat": 4,
 "nbformat_minor": 2
}
