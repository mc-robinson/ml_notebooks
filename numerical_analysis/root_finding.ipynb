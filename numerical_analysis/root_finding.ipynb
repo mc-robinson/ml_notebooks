{
 "cells": [
  {
   "cell_type": "markdown",
   "metadata": {},
   "source": [
    "# Finding Roots of Equations #\n",
    "    - Matt Robinson\n",
    "    \n",
    "    \n",
    "Much of the code here is adapted from https://github.com/ggorman/Numerical-methods-1/blob/master/notebook/Lecture-4-Numerical-methods-1-Solutions.ipynb"
   ]
  },
  {
   "cell_type": "code",
   "execution_count": 2,
   "metadata": {},
   "outputs": [],
   "source": [
    "import pandas as pd\n",
    "import numpy as np\n",
    "import matplotlib.pyplot as plt\n",
    "%matplotlib inline"
   ]
  },
  {
   "cell_type": "code",
   "execution_count": 4,
   "metadata": {},
   "outputs": [],
   "source": [
    "def bisection(f, a, b, tol=1.0E-6, max_iter=100):\n",
    "    \n",
    "    for _ in range(max_iter):\n",
    "        \n",
    "        m = (a+b)/2\n",
    "        \n",
    "        if f(m) == 0 or (b-a)/2 < tol:\n",
    "            return m\n",
    "\n",
    "        if np.sign(f(m)) == np.sign(f(a)):\n",
    "            a = m\n",
    "        else:\n",
    "            b = m\n",
    "            \n",
    "    raise RuntimeError('no root found within [a,b]')"
   ]
  },
  {
   "cell_type": "code",
   "execution_count": 9,
   "metadata": {},
   "outputs": [
    {
     "name": "stdout",
     "output_type": "stream",
     "text": [
      "My method:  2.790355086326599\n",
      "Scipy:  2.7903546180675676\n"
     ]
    }
   ],
   "source": [
    "import scipy.optimize as optimize\n",
    "\n",
    "def f(x):\n",
    "    return 2*x + x*np.sin(x-3) - 5\n",
    "\n",
    "a, b = 0., 5.\n",
    "print(\"My method: \",bisection(f, a, b))\n",
    "print(\"Scipy: \",optimize.bisect(f, a, b))"
   ]
  },
  {
   "cell_type": "code",
   "execution_count": 37,
   "metadata": {},
   "outputs": [],
   "source": [
    "def regula_falsa(f, a, b, tol=1.0E-6, max_iter=100):\n",
    "    \n",
    "    for _ in range(max_iter):\n",
    "        \n",
    "        # basically same update as secant method\n",
    "        m = b - ( f(b)*( (b-a)/( f(b)-f(a) ) ) )\n",
    "        \n",
    "        if f(m) == 0 or (b-a)/2 < tol:\n",
    "            return m\n",
    "\n",
    "        if np.sign(f(m)) == np.sign(f(a)):\n",
    "            a = m\n",
    "        else:\n",
    "            b = m\n",
    "            \n",
    "    raise RuntimeError('no root found within [a,b]')"
   ]
  },
  {
   "cell_type": "code",
   "execution_count": 38,
   "metadata": {},
   "outputs": [
    {
     "name": "stdout",
     "output_type": "stream",
     "text": [
      "My method:  2.7903546180673837\n",
      "Scipy:  2.7903546180675676\n"
     ]
    }
   ],
   "source": [
    "import scipy.optimize as optimize\n",
    "\n",
    "def f(x):\n",
    "    return 2*x + x*np.sin(x-3) - 5\n",
    "\n",
    "a, b = 0., 5.\n",
    "print(\"My method: \",regula_falsa(f, a, b))\n",
    "print(\"Scipy: \",optimize.bisect(f, a, b))"
   ]
  },
  {
   "cell_type": "code",
   "execution_count": 27,
   "metadata": {},
   "outputs": [],
   "source": [
    "def newton(f, dfdx, x0=0, tol=1.0E-6, max_iter=100):\n",
    "    \n",
    "    for _ in range(max_iter):\n",
    "        \n",
    "        x1 = x0 - (f(x0)/dfdx(x0))\n",
    "        if abs(x1-x0) < tol:\n",
    "            return x1\n",
    "        else:\n",
    "            x0=x1\n",
    "            \n",
    "    raise RuntimeError('no root found in allowed number of iterations')"
   ]
  },
  {
   "cell_type": "code",
   "execution_count": 28,
   "metadata": {},
   "outputs": [
    {
     "name": "stdout",
     "output_type": "stream",
     "text": [
      "My method:  2.7903546180673837\n",
      "Scipy:  2.7903546180673837\n"
     ]
    }
   ],
   "source": [
    "def f(x):\n",
    "    return 2*x + x*np.sin(x-3) - 5\n",
    "\n",
    "def dfdx(x):\n",
    "    return 2 - np.sin(3-x) + x*np.cos(3-x)\n",
    "\n",
    "x0 = 0 # initial guess\n",
    "\n",
    "print(\"My method: \", newton(f, dfdx, x0))\n",
    "print(\"Scipy: \", optimize.newton(f, x0, dfdx))"
   ]
  },
  {
   "cell_type": "code",
   "execution_count": 29,
   "metadata": {},
   "outputs": [],
   "source": [
    "def secant(f, x0, x1, tol=1.0E-6, max_iter = 100):\n",
    "    \n",
    "    for _ in range(max_iter):\n",
    "        \n",
    "        x2 = x1 - ( f(x1)*( (x1-x0)/( f(x1)-f(x0) ) ) )\n",
    "        if abs(x2-x1) < tol:\n",
    "            return x2\n",
    "        else:\n",
    "            x0=x1\n",
    "            x1=x2\n",
    "            \n",
    "    raise RuntimeError('no root found in allowed number of iterations')"
   ]
  },
  {
   "cell_type": "code",
   "execution_count": 36,
   "metadata": {},
   "outputs": [
    {
     "name": "stdout",
     "output_type": "stream",
     "text": [
      "My method:  2.7903546180673837\n",
      "Scipy:  2.7903546180675676\n"
     ]
    }
   ],
   "source": [
    "import scipy.optimize as optimize\n",
    "\n",
    "def f(x):\n",
    "    return 2*x + x*np.sin(x-3) - 5\n",
    "\n",
    "a, b = 0,5\n",
    "print(\"My method: \", secant(f, a, b))\n",
    "print(\"Scipy: \", optimize.bisect(f, a, b))"
   ]
  },
  {
   "cell_type": "code",
   "execution_count": null,
   "metadata": {},
   "outputs": [],
   "source": []
  }
 ],
 "metadata": {
  "kernelspec": {
   "display_name": "Python 3",
   "language": "python",
   "name": "python3"
  },
  "language_info": {
   "codemirror_mode": {
    "name": "ipython",
    "version": 3
   },
   "file_extension": ".py",
   "mimetype": "text/x-python",
   "name": "python",
   "nbconvert_exporter": "python",
   "pygments_lexer": "ipython3",
   "version": "3.6.6"
  }
 },
 "nbformat": 4,
 "nbformat_minor": 2
}
